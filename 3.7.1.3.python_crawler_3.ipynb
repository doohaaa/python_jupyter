{
 "cells": [
  {
   "cell_type": "code",
   "execution_count": 18,
   "id": "948099a5",
   "metadata": {},
   "outputs": [],
   "source": [
    "import requests\n",
    "import lxml.html"
   ]
  },
  {
   "cell_type": "code",
   "execution_count": 19,
   "id": "3ab78774",
   "metadata": {},
   "outputs": [],
   "source": [
    "def main():\n",
    "    session = requests.Session()\n",
    "    response = session.get('http://www.hanbit.co.kr/store/books/new_book_list.html')\n",
    "    urls=scrape_list_page(response)\n",
    "    for url in urls:\n",
    "        print(url)\n",
    "        print('-'*70)"
   ]
  },
  {
   "cell_type": "code",
   "execution_count": 20,
   "id": "28fda4b5",
   "metadata": {},
   "outputs": [],
   "source": [
    "def scrape_list_page(response):\n",
    "    root = lxml.html.fromstring(response.content)\n",
    "    root.make_links_absolute(response.url)\n",
    "    for a in root.cssselect('.view_box .book_tit a'):\n",
    "        url = a.get('href')\n",
    "        yield url"
   ]
  },
  {
   "cell_type": "code",
   "execution_count": 21,
   "id": "7ac49da9",
   "metadata": {},
   "outputs": [
    {
     "name": "stdout",
     "output_type": "stream",
     "text": [
      "https://www.hanbit.co.kr/store/books/look.php?p_code=B3178834938\n",
      "----------------------------------------------------------------------\n",
      "https://www.hanbit.co.kr/store/books/look.php?p_code=B6084607806\n",
      "----------------------------------------------------------------------\n",
      "https://www.hanbit.co.kr/store/books/look.php?p_code=B8948111854\n",
      "----------------------------------------------------------------------\n",
      "https://www.hanbit.co.kr/store/books/look.php?p_code=B8661740335\n",
      "----------------------------------------------------------------------\n",
      "https://www.hanbit.co.kr/store/books/look.php?p_code=B1382037871\n",
      "----------------------------------------------------------------------\n",
      "https://www.hanbit.co.kr/store/books/look.php?p_code=B2847674054\n",
      "----------------------------------------------------------------------\n",
      "https://www.hanbit.co.kr/store/books/look.php?p_code=B4162156367\n",
      "----------------------------------------------------------------------\n",
      "https://www.hanbit.co.kr/store/books/look.php?p_code=B5156679966\n",
      "----------------------------------------------------------------------\n",
      "https://www.hanbit.co.kr/store/books/look.php?p_code=B6189263297\n",
      "----------------------------------------------------------------------\n",
      "https://www.hanbit.co.kr/store/books/look.php?p_code=B4813114979\n",
      "----------------------------------------------------------------------\n",
      "https://www.hanbit.co.kr/store/books/look.php?p_code=B8806843023\n",
      "----------------------------------------------------------------------\n",
      "https://www.hanbit.co.kr/store/books/look.php?p_code=B2859439220\n",
      "----------------------------------------------------------------------\n",
      "https://www.hanbit.co.kr/store/books/look.php?p_code=B1996635146\n",
      "----------------------------------------------------------------------\n",
      "https://www.hanbit.co.kr/store/books/look.php?p_code=B9063949643\n",
      "----------------------------------------------------------------------\n",
      "https://www.hanbit.co.kr/store/books/look.php?p_code=B7400451696\n",
      "----------------------------------------------------------------------\n",
      "https://www.hanbit.co.kr/store/books/look.php?p_code=B6129400746\n",
      "----------------------------------------------------------------------\n",
      "https://www.hanbit.co.kr/store/books/look.php?p_code=B7738896383\n",
      "----------------------------------------------------------------------\n",
      "https://www.hanbit.co.kr/store/books/look.php?p_code=B4354575770\n",
      "----------------------------------------------------------------------\n",
      "https://www.hanbit.co.kr/store/books/look.php?p_code=B1959656080\n",
      "----------------------------------------------------------------------\n",
      "https://www.hanbit.co.kr/store/books/look.php?p_code=B5171715268\n",
      "----------------------------------------------------------------------\n"
     ]
    }
   ],
   "source": [
    "if __name__=='__main__':\n",
    "    main()"
   ]
  },
  {
   "cell_type": "code",
   "execution_count": null,
   "id": "0bb93779",
   "metadata": {},
   "outputs": [],
   "source": []
  }
 ],
 "metadata": {
  "kernelspec": {
   "display_name": "Python 3 (ipykernel)",
   "language": "python",
   "name": "python3"
  },
  "language_info": {
   "codemirror_mode": {
    "name": "ipython",
    "version": 3
   },
   "file_extension": ".py",
   "mimetype": "text/x-python",
   "name": "python",
   "nbconvert_exporter": "python",
   "pygments_lexer": "ipython3",
   "version": "3.9.12"
  }
 },
 "nbformat": 4,
 "nbformat_minor": 5
}
