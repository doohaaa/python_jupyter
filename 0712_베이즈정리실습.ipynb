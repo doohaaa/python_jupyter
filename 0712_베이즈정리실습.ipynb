{
 "cells": [
  {
   "cell_type": "code",
   "execution_count": 4,
   "id": "75ab08dd",
   "metadata": {},
   "outputs": [],
   "source": [
    "import pandas as pd"
   ]
  },
  {
   "cell_type": "code",
   "execution_count": 5,
   "id": "7990e342",
   "metadata": {},
   "outputs": [],
   "source": [
    "smoke_data=pd.DataFrame(\n",
    "{\"나이그룹\":['10','10','10','10','10','10','10','10','10','10',\n",
    "        '20','20','20','20','20','20','20','20','20','20',\n",
    "        '30','30','30','30','30','30','30','30','30','30'],\n",
    "\"흡연여부\":['유','유','무','무','무','무','무','무','무','무',\n",
    "       '유','유','유','유','유','무','무','무','무','무',\n",
    "       '유','유','유','유','유','유','유','무','무','무']})"
   ]
  },
  {
   "cell_type": "code",
   "execution_count": 6,
   "id": "b5ecd7e4",
   "metadata": {},
   "outputs": [
    {
     "data": {
      "text/html": [
       "<div>\n",
       "<style scoped>\n",
       "    .dataframe tbody tr th:only-of-type {\n",
       "        vertical-align: middle;\n",
       "    }\n",
       "\n",
       "    .dataframe tbody tr th {\n",
       "        vertical-align: top;\n",
       "    }\n",
       "\n",
       "    .dataframe thead th {\n",
       "        text-align: right;\n",
       "    }\n",
       "</style>\n",
       "<table border=\"1\" class=\"dataframe\">\n",
       "  <thead>\n",
       "    <tr style=\"text-align: right;\">\n",
       "      <th>흡연여부</th>\n",
       "      <th>무</th>\n",
       "      <th>유</th>\n",
       "    </tr>\n",
       "    <tr>\n",
       "      <th>나이그룹</th>\n",
       "      <th></th>\n",
       "      <th></th>\n",
       "    </tr>\n",
       "  </thead>\n",
       "  <tbody>\n",
       "    <tr>\n",
       "      <th>10</th>\n",
       "      <td>8</td>\n",
       "      <td>2</td>\n",
       "    </tr>\n",
       "    <tr>\n",
       "      <th>20</th>\n",
       "      <td>5</td>\n",
       "      <td>5</td>\n",
       "    </tr>\n",
       "    <tr>\n",
       "      <th>30</th>\n",
       "      <td>3</td>\n",
       "      <td>7</td>\n",
       "    </tr>\n",
       "  </tbody>\n",
       "</table>\n",
       "</div>"
      ],
      "text/plain": [
       "흡연여부  무  유\n",
       "나이그룹      \n",
       "10    8  2\n",
       "20    5  5\n",
       "30    3  7"
      ]
     },
     "execution_count": 6,
     "metadata": {},
     "output_type": "execute_result"
    }
   ],
   "source": [
    "data_crosstab=pd.crosstab(smoke_data['나이그룹'], \n",
    "                         smoke_data['흡연여부'], margins=False)\n",
    "data_crosstab"
   ]
  },
  {
   "cell_type": "code",
   "execution_count": 7,
   "id": "cd8425f1",
   "metadata": {},
   "outputs": [
    {
     "name": "stdout",
     "output_type": "stream",
     "text": [
      "10대 확률: 0.3333333333333333\n",
      "20대 확률: 0.3333333333333333\n",
      "30대 확률: 0.3333333333333333\n",
      "전체 흡연 확률: 0.4666666666666667\n",
      "전체 비흡연 확률: 0.5333333333333333\n"
     ]
    }
   ],
   "source": [
    "p_10=data_crosstab.loc[\"10\"].sum()/data_crosstab.values.sum()\n",
    "print(\"10대 확률:\",p_10)\n",
    "p_20=data_crosstab.loc[\"20\"].sum()/data_crosstab.values.sum()\n",
    "print(\"20대 확률:\",p_20)\n",
    "p_30=data_crosstab.loc[\"30\"].sum()/data_crosstab.values.sum()\n",
    "print(\"30대 확률:\",p_30)\n",
    "\n",
    "p_smok= data_crosstab[\"유\"].sum()/data_crosstab.values.sum()\n",
    "print(\"전체 흡연 확률:\",p_smok)\n",
    "p_smok_non = data_crosstab[\"무\"].sum()/data_crosstab.values.sum()\n",
    "print(\"전체 비흡연 확률:\",p_smok_non)"
   ]
  },
  {
   "cell_type": "code",
   "execution_count": 11,
   "id": "10b44d3d",
   "metadata": {},
   "outputs": [
    {
     "name": "stdout",
     "output_type": "stream",
     "text": [
      "P(흡연|10대): 0.2\n",
      "P(흡연|20대): 0.5\n",
      "P(흡연|30대): 0.7\n"
     ]
    }
   ],
   "source": [
    "p_smok_given_10 =data_crosstab.loc[\"10\"][\"유\"]/data_crosstab.loc[\"10\"].sum()\n",
    "print(\"P(흡연|10대):\",p_smok_given_10)\n",
    "\n",
    "p_smok_given_20 =data_crosstab.loc[\"20\"][\"유\"]/data_crosstab.loc[\"20\"].sum()\n",
    "print(\"P(흡연|20대):\",p_smok_given_20)\n",
    "\n",
    "p_smok_given_30 =data_crosstab.loc[\"30\"][\"유\"]/data_crosstab.loc[\"30\"].sum()\n",
    "print(\"P(흡연|30대):\",p_smok_given_30)"
   ]
  },
  {
   "cell_type": "code",
   "execution_count": 12,
   "id": "69aea4cb",
   "metadata": {},
   "outputs": [
    {
     "name": "stdout",
     "output_type": "stream",
     "text": [
      "전확률: 0.4666666666666667\n",
      "P(30대)*P(흡연|30대): 0.2333333333333333\n"
     ]
    }
   ],
   "source": [
    "total_p=(p_10*p_smok_given_10)+(p_20*p_smok_given_20)+(p_30*p_smok_given_30)\n",
    "print(\"전확률:\",total_p)\n",
    "\n",
    "p_30_smoke_given_30=(p_30*p_smok_given_30)\n",
    "print(\"P(30대)*P(흡연|30대):\",p_30_smoke_given_30)"
   ]
  },
  {
   "cell_type": "code",
   "execution_count": 13,
   "id": "319b1226",
   "metadata": {},
   "outputs": [
    {
     "name": "stdout",
     "output_type": "stream",
     "text": [
      "담배피는 사람일 때 30대일 확률:0.5\n"
     ]
    }
   ],
   "source": [
    "p_30_given_smok=p_30_smoke_given_30/total_p\n",
    "print(\"담배피는 사람일 때 30대일 확률:{}\".format(round(p_30_given_smok,3)))"
   ]
  },
  {
   "cell_type": "code",
   "execution_count": 17,
   "id": "1e1da6b1",
   "metadata": {},
   "outputs": [],
   "source": [
    "from sklearn.datasets import load_iris\n",
    "from sklearn.model_selection import train_test_split\n",
    "from sklearn.naive_bayes import GaussianNB"
   ]
  },
  {
   "cell_type": "code",
   "execution_count": 21,
   "id": "e1b7b991",
   "metadata": {},
   "outputs": [
    {
     "name": "stdout",
     "output_type": "stream",
     "text": [
      "[2 1 0 2 0 2 0 1 1 1 1 1 1 1 1 0 1 1 0 0 2 1 0 0 2 0 0 1 1 0 2 1 0 2 2 1 0\n",
      " 1 1 1 2 0 2 0 0 1 2 2 1 2 1 2 1 1 2 1 1 2 1 2 1 0 2 1 1 1 1 2 0 0 2 1 0 0\n",
      " 1]\n",
      "Number of mislabeled points out of a total 75 proints : 4\n"
     ]
    }
   ],
   "source": [
    "X,y=load_iris(return_X_y=True)\n",
    "\n",
    "X_train,X_test,y_train,y_test = train_test_split(X, y, test_size=0.5,random_state=0)\n",
    "nb=GaussianNB()\n",
    "y_pred=nb.fit(X_train,y_train).predict(X_test)\n",
    "print(y_pred)\n",
    "print(\"Number of mislabeled points out of a total %d proints : %d\" %(X_test.shape[0], (y_test != y_pred).sum()))"
   ]
  },
  {
   "cell_type": "code",
   "execution_count": null,
   "id": "260f646d",
   "metadata": {},
   "outputs": [],
   "source": []
  }
 ],
 "metadata": {
  "kernelspec": {
   "display_name": "Python 3 (ipykernel)",
   "language": "python",
   "name": "python3"
  },
  "language_info": {
   "codemirror_mode": {
    "name": "ipython",
    "version": 3
   },
   "file_extension": ".py",
   "mimetype": "text/x-python",
   "name": "python",
   "nbconvert_exporter": "python",
   "pygments_lexer": "ipython3",
   "version": "3.9.12"
  }
 },
 "nbformat": 4,
 "nbformat_minor": 5
}
