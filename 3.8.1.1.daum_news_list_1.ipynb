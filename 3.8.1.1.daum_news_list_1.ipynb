{
 "cells": [
  {
   "cell_type": "code",
   "execution_count": 1,
   "id": "6971524c",
   "metadata": {},
   "outputs": [],
   "source": [
    "import requests\n",
    "import lxml.html\n",
    "import pandas as pd\n",
    "import sqlite3\n",
    "from pandas.io import sql\n",
    "import os"
   ]
  },
  {
   "cell_type": "code",
   "execution_count": 5,
   "id": "7b33d26c",
   "metadata": {},
   "outputs": [],
   "source": [
    "REG_DATE='20220719'"
   ]
  },
  {
   "cell_type": "code",
   "execution_count": 6,
   "id": "05d42945",
   "metadata": {},
   "outputs": [
    {
     "name": "stdout",
     "output_type": "stream",
     "text": [
      "https://v.daum.net/v/20220719112404030 \"제7회 AI 차세대 컨택센터 컨퍼런스 2022\" 8월 26일 개최\n",
      "https://v.daum.net/v/20220719112343009 LGU+, 키즈 콘텐츠IP 쑥쑥 키운다\n",
      "https://v.daum.net/v/20220719112304984 카카오엔터프라이즈 \"한국어 감정 인식 AI 기술 국제학회 발표\"\n",
      "https://v.daum.net/v/20220719112259978 전주시 한옥마을·도서관 메타버스로 만난다..내년까지 구축\n",
      "https://v.daum.net/v/20220719112204951 KT, 사람 감정 표현하는 'AI 보이스 스튜디오' 출시\n",
      "https://v.daum.net/v/20220719112025846 청북 창현장학회 오창고에 3000만 원 장학금기탁\n",
      "https://v.daum.net/v/20220719112008823 \"차세대 소재 국산화\" 화학연, 우수 국가연구시설 '장관상'\n",
      "https://v.daum.net/v/20220719111956809 출연연 '고효율 태양전지' 기술 개발 척척\n",
      "https://v.daum.net/v/20220719111905770 스마트워크의 비전과 미래 \"SMART WORK KOREA SUMMIT 2022\" 8월 25일 개최\n",
      "https://v.daum.net/v/20220719111603645 이순신 장군이 중국인?..서경덕 \"中 문화공정, 선 제대로 넘었다\"\n",
      "https://v.daum.net/v/20220719111544626 리얼리티 큐브드 게임, '삼국지 2022' 사전예약 실시\n",
      "https://v.daum.net/v/20220719111519599 [속보] 백신접종 피해보상 이의신청 2회 확대..사망위로금 1억원\n",
      "https://v.daum.net/v/20220719111504565 LG전자, 글로벌 표준 연합 CSA 의장사 선정..매터 생태계 확장 주도\n",
      "https://v.daum.net/v/20220719111419516 컴투스 '서머너즈워:크로니클', 세계관 영상 공개\n",
      "https://v.daum.net/v/20220719111342495 상반기 국내 에스프레소머신 시장 규모 628억원..전년비 18% 성장\n"
     ]
    }
   ],
   "source": [
    "response = requests.get('https://news.daum.net/breakingnews/digital?regDate={}'.format(REG_DATE))\n",
    "root = lxml.html.fromstring(response.content)\n",
    "for li in root.xpath('//*[@id=\"mArticle\"]/div[3]/ul/li'):\n",
    "    a = li.xpath('div/strong/a')[0]\n",
    "    url = a.get('href')\n",
    "    print(url, a.text)"
   ]
  },
  {
   "cell_type": "code",
   "execution_count": null,
   "id": "60a18298",
   "metadata": {},
   "outputs": [],
   "source": []
  }
 ],
 "metadata": {
  "kernelspec": {
   "display_name": "Python 3 (ipykernel)",
   "language": "python",
   "name": "python3"
  },
  "language_info": {
   "codemirror_mode": {
    "name": "ipython",
    "version": 3
   },
   "file_extension": ".py",
   "mimetype": "text/x-python",
   "name": "python",
   "nbconvert_exporter": "python",
   "pygments_lexer": "ipython3",
   "version": "3.9.12"
  }
 },
 "nbformat": 4,
 "nbformat_minor": 5
}
