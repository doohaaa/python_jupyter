{
 "cells": [
  {
   "cell_type": "code",
   "execution_count": 1,
   "id": "47e43446",
   "metadata": {},
   "outputs": [],
   "source": [
    "import csv"
   ]
  },
  {
   "cell_type": "code",
   "execution_count": 2,
   "id": "d0225928",
   "metadata": {},
   "outputs": [],
   "source": [
    "with open('top_cities.csv','w',newline='', encoding='utf-8')as f :\n",
    "    writer=csv.DictWriter(f, ['rank','city','population'])\n",
    "    writer.writeheader()\n",
    "    writer.writerows([\n",
    "        {'rank':1, 'city': '상하이', 'population': 24150000},\n",
    "        {'rank':2, 'city': '카라치', 'population': 23500000},\n",
    "        {'rank':3, 'city': '베이징', 'population': 21516000},\n",
    "        {'rank':4, 'city': '텐진', 'population': 14722100},\n",
    "        {'rank':5, 'city': '이스탄불', 'population': 14160467}\n",
    "    ])"
   ]
  },
  {
   "cell_type": "code",
   "execution_count": 3,
   "id": "a1c50f89",
   "metadata": {},
   "outputs": [],
   "source": [
    "import chardet"
   ]
  },
  {
   "cell_type": "code",
   "execution_count": 4,
   "id": "329deb57",
   "metadata": {},
   "outputs": [],
   "source": [
    "char_dic=chardet.detect(open('top_cities.csv','rb').read())"
   ]
  },
  {
   "cell_type": "code",
   "execution_count": 6,
   "id": "da964857",
   "metadata": {},
   "outputs": [
    {
     "data": {
      "text/plain": [
       "'utf-8'"
      ]
     },
     "execution_count": 6,
     "metadata": {},
     "output_type": "execute_result"
    }
   ],
   "source": [
    "char_dic['encoding']"
   ]
  },
  {
   "cell_type": "code",
   "execution_count": null,
   "id": "1edb4c2b",
   "metadata": {},
   "outputs": [],
   "source": []
  }
 ],
 "metadata": {
  "kernelspec": {
   "display_name": "Python 3 (ipykernel)",
   "language": "python",
   "name": "python3"
  },
  "language_info": {
   "codemirror_mode": {
    "name": "ipython",
    "version": 3
   },
   "file_extension": ".py",
   "mimetype": "text/x-python",
   "name": "python",
   "nbconvert_exporter": "python",
   "pygments_lexer": "ipython3",
   "version": "3.9.12"
  }
 },
 "nbformat": 4,
 "nbformat_minor": 5
}
