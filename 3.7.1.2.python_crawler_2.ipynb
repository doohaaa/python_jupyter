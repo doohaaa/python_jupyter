{
 "cells": [
  {
   "cell_type": "code",
   "execution_count": 7,
   "id": "1b4e466e",
   "metadata": {},
   "outputs": [],
   "source": [
    "import requests\n",
    "import lxml.html"
   ]
  },
  {
   "cell_type": "code",
   "execution_count": 10,
   "id": "1efd99b9",
   "metadata": {},
   "outputs": [],
   "source": [
    "response = requests.get('http://www.hanbit.co.kr/store/books/new_book_list.html')\n",
    "root=lxml.html.fromstring(response.content)"
   ]
  },
  {
   "cell_type": "code",
   "execution_count": 11,
   "id": "23518839",
   "metadata": {},
   "outputs": [
    {
     "name": "stdout",
     "output_type": "stream",
     "text": [
      "https://www.hanbit.co.kr/store/books/look.php?p_code=B3178834938\n",
      "https://www.hanbit.co.kr/store/books/look.php?p_code=B6084607806\n",
      "https://www.hanbit.co.kr/store/books/look.php?p_code=B8948111854\n",
      "https://www.hanbit.co.kr/store/books/look.php?p_code=B8661740335\n",
      "https://www.hanbit.co.kr/store/books/look.php?p_code=B1382037871\n",
      "https://www.hanbit.co.kr/store/books/look.php?p_code=B2847674054\n",
      "https://www.hanbit.co.kr/store/books/look.php?p_code=B4162156367\n",
      "https://www.hanbit.co.kr/store/books/look.php?p_code=B5156679966\n",
      "https://www.hanbit.co.kr/store/books/look.php?p_code=B6189263297\n",
      "https://www.hanbit.co.kr/store/books/look.php?p_code=B4813114979\n",
      "https://www.hanbit.co.kr/store/books/look.php?p_code=B8806843023\n",
      "https://www.hanbit.co.kr/store/books/look.php?p_code=B2859439220\n",
      "https://www.hanbit.co.kr/store/books/look.php?p_code=B1996635146\n",
      "https://www.hanbit.co.kr/store/books/look.php?p_code=B9063949643\n",
      "https://www.hanbit.co.kr/store/books/look.php?p_code=B7400451696\n",
      "https://www.hanbit.co.kr/store/books/look.php?p_code=B6129400746\n",
      "https://www.hanbit.co.kr/store/books/look.php?p_code=B7738896383\n",
      "https://www.hanbit.co.kr/store/books/look.php?p_code=B4354575770\n",
      "https://www.hanbit.co.kr/store/books/look.php?p_code=B1959656080\n",
      "https://www.hanbit.co.kr/store/books/look.php?p_code=B5171715268\n"
     ]
    }
   ],
   "source": [
    "root.make_links_absolute(response.url)\n",
    "\n",
    "for a in root.cssselect('.view_box .book_tit a'):\n",
    "    url=a.get('href')\n",
    "    print(url)"
   ]
  },
  {
   "cell_type": "code",
   "execution_count": null,
   "id": "62879ae8",
   "metadata": {},
   "outputs": [],
   "source": []
  }
 ],
 "metadata": {
  "kernelspec": {
   "display_name": "Python 3 (ipykernel)",
   "language": "python",
   "name": "python3"
  },
  "language_info": {
   "codemirror_mode": {
    "name": "ipython",
    "version": 3
   },
   "file_extension": ".py",
   "mimetype": "text/x-python",
   "name": "python",
   "nbconvert_exporter": "python",
   "pygments_lexer": "ipython3",
   "version": "3.9.12"
  }
 },
 "nbformat": 4,
 "nbformat_minor": 5
}
