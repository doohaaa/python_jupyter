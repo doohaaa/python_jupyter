{
 "cells": [
  {
   "cell_type": "code",
   "execution_count": 1,
   "id": "d828b42b",
   "metadata": {},
   "outputs": [
    {
     "name": "stdout",
     "output_type": "stream",
     "text": [
      "Collecting imbalanced_learn\n",
      "  Using cached imbalanced_learn-0.9.1-py3-none-any.whl (199 kB)\n",
      "Requirement already satisfied: scipy>=1.3.2 in c:\\users\\user\\anaconda3\\lib\\site-packages (from imbalanced_learn) (1.7.3)\n",
      "Requirement already satisfied: threadpoolctl>=2.0.0 in c:\\users\\user\\anaconda3\\lib\\site-packages (from imbalanced_learn) (2.2.0)\n",
      "Requirement already satisfied: numpy>=1.17.3 in c:\\users\\user\\anaconda3\\lib\\site-packages (from imbalanced_learn) (1.21.5)\n",
      "Requirement already satisfied: scikit-learn>=1.1.0 in c:\\users\\user\\anaconda3\\lib\\site-packages (from imbalanced_learn) (1.1.1)\n",
      "Requirement already satisfied: joblib>=1.0.0 in c:\\users\\user\\anaconda3\\lib\\site-packages (from imbalanced_learn) (1.1.0)\n",
      "Installing collected packages: imbalanced-learn\n",
      "Successfully installed imbalanced-learn-0.9.1\n"
     ]
    }
   ],
   "source": [
    "!pip install imbalanced_learn"
   ]
  },
  {
   "cell_type": "code",
   "execution_count": 3,
   "id": "5decf2e3",
   "metadata": {},
   "outputs": [],
   "source": [
    "import warnings\n",
    "warnings.simplefilter(action='ignore',category=FutureWarning)\n",
    "import numpy as np\n",
    "import pandas as pd\n",
    "%matplotlib inline\n",
    "from matplotlib import pyplot as plt\n",
    "import seaborn as sns\n",
    "from sklearn.datasets import make_classification\n",
    "\n",
    "from imblearn.under_sampling import RandomUnderSampler\n",
    "from imblearn.under_sampling import TomekLinks\n",
    "from imblearn.under_sampling import OneSidedSelection\n",
    "\n",
    "from imblearn.over_sampling import RandomOverSampler\n",
    "from imblearn.over_sampling import SMOTE\n",
    "from imblearn.over_sampling import ADASYN\n",
    "from imblearn.over_sampling import BorderlineSMOTE\n",
    "\n",
    "from sklearn.ensemble import RandomForestClassifier\n",
    "from sklearn.model_selection import RepeatedStratifiedKFold\n",
    "from sklearn.model_selection import cross_validate\n",
    "\n",
    "import os\n",
    "if os.name == 'nt' :\n",
    "    font_family = \"Malgun Gothic\"\n",
    "    \n",
    "sns.set(font=font_family, rc={\"axes.unicode_minus\" : False})\n",
    "\n",
    "def Randomforest_Result(x,y,title) :\n",
    "    rf = RandomForestClassifier(criterion='entropy')\n",
    "    cv_rf = RepeatedStratifiedKFold(n_splits=10, n_repeats=3, random_state=1)\n",
    "    # cv_rf = RepeatedStratifiedKFold(n_splits=3, n_repeats=3, random_state=1)\n",
    "    scores = cross_validate(rf, x, y, scoring='f1', cv=cv_rf, n_jobs=-1)\n",
    "    print(title,':','3-Fold CV f1 score: %.4f' % np.mean(scores['test_score']))\n",
    "    return"
   ]
  },
  {
   "cell_type": "code",
   "execution_count": 12,
   "id": "bb41bf1b",
   "metadata": {},
   "outputs": [
    {
     "name": "stdout",
     "output_type": "stream",
     "text": [
      "(1000, 20)\n"
     ]
    },
    {
     "data": {
      "text/plain": [
       "(1000,)"
      ]
     },
     "execution_count": 12,
     "metadata": {},
     "output_type": "execute_result"
    }
   ],
   "source": [
    "X_data, y_class = make_classification(n_classes=2, class_sep=2, n_samples=1000, \n",
    "                                      n_features=20, weights=[0.9,0.1], flip_y=0, \n",
    "                                      n_clusters_per_class=1, random_state=10)\n",
    "print(X_data.shape)\n",
    "y_class.shape"
   ]
  },
  {
   "cell_type": "code",
   "execution_count": 13,
   "id": "fc5d9239",
   "metadata": {},
   "outputs": [],
   "source": [
    "from collections import Counter\n",
    "from matplotlib import pyplot\n",
    "def count_and_plot(y):\n",
    "    counter=Counter(y)\n",
    "    for k,v in counter.items():\n",
    "        print(\"Class=%d,n=%d(%.3f%%)\"%(k,v,v/len(y)*100))\n",
    "    pyplot.bar(counter.keys(),counter.values())\n",
    "    pyplot.show()"
   ]
  },
  {
   "cell_type": "code",
   "execution_count": 14,
   "id": "bfda6aa2",
   "metadata": {},
   "outputs": [
    {
     "name": "stdout",
     "output_type": "stream",
     "text": [
      "Class=0,n=900(90.000%)\n",
      "Class=1,n=100(10.000%)\n"
     ]
    },
    {
     "data": {
      "image/png": "[encoded data removed]",
      "text/plain": [
       "<Figure size 360x216 with 1 Axes>"
      ]
     },
     "metadata": {},
     "output_type": "display_data"
    }
   ],
   "source": [
    "plt.figure(figsize=(5,3))\n",
    "count_and_plot(y_class)"
   ]
  },
  {
   "cell_type": "code",
   "execution_count": 15,
   "id": "3b02855c",
   "metadata": {},
   "outputs": [
    {
     "name": "stdout",
     "output_type": "stream",
     "text": [
      "언더 샘플링_원본 데이터 결과 : 3-Fold CV f1 score: 0.9753\n"
     ]
    }
   ],
   "source": [
    "Randomforest_Result(X_data, y_class, \"언더 샘플링_원본 데이터 결과\")"
   ]
  },
  {
   "cell_type": "code",
   "execution_count": 16,
   "id": "da838916",
   "metadata": {},
   "outputs": [],
   "source": [
    "under_random=RandomUnderSampler(sampling_strategy=\"majority\")\n",
    "X_random, y_random = under_random.fit_resample(X_data, y_class)"
   ]
  },
  {
   "cell_type": "code",
   "execution_count": 17,
   "id": "c81e2535",
   "metadata": {},
   "outputs": [
    {
     "name": "stdout",
     "output_type": "stream",
     "text": [
      "Class=0,n=100(50.000%)\n",
      "Class=1,n=100(50.000%)\n"
     ]
    },
    {
     "data": {
      "image/png": "[encoded data removed]",
      "text/plain": [
       "<Figure size 360x216 with 1 Axes>"
      ]
     },
     "metadata": {},
     "output_type": "display_data"
    }
   ],
   "source": [
    "plt.figure(figsize=(5,3))\n",
    "count_and_plot(y_random)"
   ]
  },
  {
   "cell_type": "code",
   "execution_count": 21,
   "id": "7f588ac4",
   "metadata": {},
   "outputs": [
    {
     "name": "stdout",
     "output_type": "stream",
     "text": [
      "언더 샘플링_랜덤언더 샘플링_데이터 결과 : 3-Fold CV f1 score: 0.9916\n"
     ]
    }
   ],
   "source": [
    "Randomforest_Result(X_random, y_random, \"언더 샘플링_랜덤언더 샘플링_데이터 결과\")"
   ]
  },
  {
   "cell_type": "code",
   "execution_count": 22,
   "id": "7edb88af",
   "metadata": {},
   "outputs": [],
   "source": [
    "under_random_05 = RandomUnderSampler(sampling_strategy = 0.5)\n",
    "X_random_05, y_random_05=under_random_05.fit_resample(X_data,y_class)"
   ]
  },
  {
   "cell_type": "code",
   "execution_count": 23,
   "id": "c0272e8d",
   "metadata": {},
   "outputs": [
    {
     "name": "stdout",
     "output_type": "stream",
     "text": [
      "Class=0,n=200(66.667%)\n",
      "Class=1,n=100(33.333%)\n"
     ]
    },
    {
     "data": {
      "image/png": "[encoded data removed]",
      "text/plain": [
       "<Figure size 360x216 with 1 Axes>"
      ]
     },
     "metadata": {},
     "output_type": "display_data"
    }
   ],
   "source": [
    "plt.figure(figsize=(5,3))\n",
    "count_and_plot(y_random_05)"
   ]
  },
  {
   "cell_type": "code",
   "execution_count": 24,
   "id": "59b5e41e",
   "metadata": {},
   "outputs": [
    {
     "name": "stdout",
     "output_type": "stream",
     "text": [
      "언더 샘플링_랜덤언더 샘플링_비율:0.5_데이터 결과 : 3-Fold CV f1 score: 0.9900\n"
     ]
    }
   ],
   "source": [
    "Randomforest_Result(X_random_05,y_random_05, \"언더 샘플링_랜덤언더 샘플링_비율:0.5_데이터 결과\")"
   ]
  },
  {
   "cell_type": "code",
   "execution_count": 25,
   "id": "20c62fa1",
   "metadata": {},
   "outputs": [],
   "source": [
    "tl=TomekLinks()\n",
    "X_tl, y_tl=tl.fit_resample(X_data, y_class)"
   ]
  },
  {
   "cell_type": "code",
   "execution_count": 26,
   "id": "6b330b77",
   "metadata": {},
   "outputs": [
    {
     "name": "stdout",
     "output_type": "stream",
     "text": [
      "Class=0,n=900(90.000%)\n",
      "Class=1,n=100(10.000%)\n"
     ]
    },
    {
     "data": {
      "image/png": "[encoded data removed]",
      "text/plain": [
       "<Figure size 360x216 with 1 Axes>"
      ]
     },
     "metadata": {},
     "output_type": "display_data"
    }
   ],
   "source": [
    "plt.figure(figsize=(5,3))\n",
    "count_and_plot(y_tl)"
   ]
  },
  {
   "cell_type": "code",
   "execution_count": 27,
   "id": "b472dd47",
   "metadata": {},
   "outputs": [
    {
     "name": "stdout",
     "output_type": "stream",
     "text": [
      "언더 샘플링_토멕링크_데이터 결과 : 3-Fold CV f1 score: 0.9753\n"
     ]
    }
   ],
   "source": [
    "Randomforest_Result(X_tl, y_tl, \"언더 샘플링_토멕링크_데이터 결과\")"
   ]
  },
  {
   "cell_type": "code",
   "execution_count": 29,
   "id": "5bf2f60c",
   "metadata": {},
   "outputs": [],
   "source": [
    "oss=OneSidedSelection(random_state=42)\n",
    "X_oss, y_oss= oss.fit_resample(X_data, y_class)"
   ]
  },
  {
   "cell_type": "code",
   "execution_count": 30,
   "id": "9a92694a",
   "metadata": {},
   "outputs": [
    {
     "name": "stdout",
     "output_type": "stream",
     "text": [
      "Class=0,n=607(85.856%)\n",
      "Class=1,n=100(14.144%)\n"
     ]
    },
    {
     "data": {
      "image/png": "[encoded data removed]",
      "text/plain": [
       "<Figure size 360x216 with 1 Axes>"
      ]
     },
     "metadata": {},
     "output_type": "display_data"
    }
   ],
   "source": [
    "plt.figure(figsize=(5,3))\n",
    "count_and_plot(y_oss)"
   ]
  },
  {
   "cell_type": "code",
   "execution_count": 31,
   "id": "0c5500ce",
   "metadata": {},
   "outputs": [
    {
     "name": "stdout",
     "output_type": "stream",
     "text": [
      "언더 샘플링_OSS_데이터 결과 : 3-Fold CV f1 score: 0.9734\n"
     ]
    }
   ],
   "source": [
    "Randomforest_Result(X_oss, y_oss, \"언더 샘플링_OSS_데이터 결과\")"
   ]
  },
  {
   "cell_type": "code",
   "execution_count": 32,
   "id": "a5273783",
   "metadata": {},
   "outputs": [
    {
     "name": "stdout",
     "output_type": "stream",
     "text": [
      "(1000, 20)\n",
      "Class=0,n=900(90.000%)\n",
      "Class=1,n=100(10.000%)\n"
     ]
    },
    {
     "data": {
      "image/png": "[encoded data removed]",
      "text/plain": [
       "<Figure size 360x288 with 1 Axes>"
      ]
     },
     "metadata": {},
     "output_type": "display_data"
    }
   ],
   "source": [
    "X_data, y_class = make_classification(n_classes=2, class_sep=2, n_samples=1000,\n",
    "                                     n_features=20, weights=[0.9,0.1], flip_y=0,\n",
    "                                    n_clusters_per_class=1, random_state=10)\n",
    "\n",
    "print(X_data.shape)\n",
    "y_class.shape\n",
    "\n",
    "plt.figure(figsize=(5,4))\n",
    "count_and_plot(y_class)"
   ]
  },
  {
   "cell_type": "code",
   "execution_count": 33,
   "id": "30771433",
   "metadata": {},
   "outputs": [
    {
     "name": "stdout",
     "output_type": "stream",
     "text": [
      "오버 샘플링_원본 데이터 결과 : 3-Fold CV f1 score: 0.9753\n"
     ]
    }
   ],
   "source": [
    "Randomforest_Result(X_data,y_class, \"오버 샘플링_원본 데이터 결과\")"
   ]
  },
  {
   "cell_type": "code",
   "execution_count": 34,
   "id": "76f0e14b",
   "metadata": {},
   "outputs": [],
   "source": [
    "ros=RandomOverSampler(random_state=42)\n",
    "X_ros, y_ros = ros.fit_resample(X_data, y_class)"
   ]
  },
  {
   "cell_type": "code",
   "execution_count": 35,
   "id": "02776b21",
   "metadata": {},
   "outputs": [
    {
     "name": "stdout",
     "output_type": "stream",
     "text": [
      "Class=0,n=900(50.000%)\n",
      "Class=1,n=900(50.000%)\n"
     ]
    },
    {
     "data": {
      "image/png": "[encoded data removed]",
      "text/plain": [
       "<Figure size 360x216 with 1 Axes>"
      ]
     },
     "metadata": {},
     "output_type": "display_data"
    }
   ],
   "source": [
    "plt.figure(figsize=(5,3))\n",
    "count_and_plot(y_ros)"
   ]
  },
  {
   "cell_type": "code",
   "execution_count": 36,
   "id": "5cdc4418",
   "metadata": {},
   "outputs": [
    {
     "name": "stdout",
     "output_type": "stream",
     "text": [
      "오버 샘플링_랜덤오버샘플링 결과 : 3-Fold CV f1 score: 0.9753\n"
     ]
    }
   ],
   "source": [
    "Randomforest_Result(X_data,y_class, \"오버 샘플링_랜덤오버샘플링 결과\")"
   ]
  },
  {
   "cell_type": "code",
   "execution_count": 37,
   "id": "1b9d8514",
   "metadata": {},
   "outputs": [],
   "source": [
    "smote= SMOTE()\n",
    "X_sm, y_sm = smote.fit_resample(X_data, y_class)"
   ]
  },
  {
   "cell_type": "code",
   "execution_count": 38,
   "id": "aeb8ad55",
   "metadata": {},
   "outputs": [
    {
     "name": "stdout",
     "output_type": "stream",
     "text": [
      "Class=0,n=900(50.000%)\n",
      "Class=1,n=900(50.000%)\n"
     ]
    },
    {
     "data": {
      "image/png": "[encoded data removed]",
      "text/plain": [
       "<Figure size 360x216 with 1 Axes>"
      ]
     },
     "metadata": {},
     "output_type": "display_data"
    }
   ],
   "source": [
    "plt.figure(figsize=(5,3))\n",
    "count_and_plot(y_sm)"
   ]
  },
  {
   "cell_type": "code",
   "execution_count": 39,
   "id": "76ea9c6b",
   "metadata": {},
   "outputs": [
    {
     "name": "stdout",
     "output_type": "stream",
     "text": [
      "오버 샘플링_SMOTE 결과 : 3-Fold CV f1 score: 0.9972\n"
     ]
    }
   ],
   "source": [
    "Randomforest_Result(X_sm, y_sm, \"오버 샘플링_SMOTE 결과\")"
   ]
  },
  {
   "cell_type": "code",
   "execution_count": 40,
   "id": "245101ac",
   "metadata": {},
   "outputs": [],
   "source": [
    "ada=ADASYN(random_state=42)\n",
    "X_ada, y_ada=ada.fit_resample(X_data, y_class)"
   ]
  },
  {
   "cell_type": "code",
   "execution_count": 41,
   "id": "8116f360",
   "metadata": {},
   "outputs": [
    {
     "name": "stdout",
     "output_type": "stream",
     "text": [
      "Class=0,n=900(50.139%)\n",
      "Class=1,n=895(49.861%)\n"
     ]
    },
    {
     "data": {
      "image/png": "[encoded data removed]",
      "text/plain": [
       "<Figure size 360x216 with 1 Axes>"
      ]
     },
     "metadata": {},
     "output_type": "display_data"
    }
   ],
   "source": [
    "plt.figure(figsize=(5,3))\n",
    "count_and_plot(y_ada)"
   ]
  },
  {
   "cell_type": "code",
   "execution_count": 42,
   "id": "4af94a28",
   "metadata": {},
   "outputs": [
    {
     "name": "stdout",
     "output_type": "stream",
     "text": [
      "오버 샘플링_ADASYN 결과 : 3-Fold CV f1 score: 0.9967\n"
     ]
    }
   ],
   "source": [
    "Randomforest_Result(X_ada, y_ada, \"오버 샘플링_ADASYN 결과\")"
   ]
  },
  {
   "cell_type": "code",
   "execution_count": 45,
   "id": "5bec61dc",
   "metadata": {},
   "outputs": [],
   "source": [
    "bor_sm = BorderlineSMOTE(random_state=42)\n",
    "X_bor_sm, y_bor_sm = bor_sm.fit_resample(X_data, y_class)"
   ]
  },
  {
   "cell_type": "code",
   "execution_count": 46,
   "id": "626e62a3",
   "metadata": {},
   "outputs": [
    {
     "name": "stdout",
     "output_type": "stream",
     "text": [
      "Class=0,n=900(50.000%)\n",
      "Class=1,n=900(50.000%)\n"
     ]
    },
    {
     "data": {
      "image/png": "[encoded data removed]",
      "text/plain": [
       "<Figure size 360x216 with 1 Axes>"
      ]
     },
     "metadata": {},
     "output_type": "display_data"
    }
   ],
   "source": [
    "plt.figure(figsize=(5,3))\n",
    "count_and_plot(y_bor_sm)"
   ]
  },
  {
   "cell_type": "code",
   "execution_count": 47,
   "id": "3e797dca",
   "metadata": {},
   "outputs": [
    {
     "name": "stdout",
     "output_type": "stream",
     "text": [
      "오버 샘플링_Borderline SMOTE 결과 : 3-Fold CV f1 score: 0.9967\n"
     ]
    }
   ],
   "source": [
    "Randomforest_Result(X_bor_sm, y_bor_sm, \"오버 샘플링_Borderline SMOTE 결과\")"
   ]
  },
  {
   "cell_type": "code",
   "execution_count": null,
   "id": "a5399312",
   "metadata": {},
   "outputs": [],
   "source": []
  }
 ],
 "metadata": {
  "kernelspec": {
   "display_name": "Python 3 (ipykernel)",
   "language": "python",
   "name": "python3"
  },
  "language_info": {
   "codemirror_mode": {
    "name": "ipython",
    "version": 3
   },
   "file_extension": ".py",
   "mimetype": "text/x-python",
   "name": "python",
   "nbconvert_exporter": "python",
   "pygments_lexer": "ipython3",
   "version": "3.9.12"
  }
 },
 "nbformat": 4,
 "nbformat_minor": 5
}
